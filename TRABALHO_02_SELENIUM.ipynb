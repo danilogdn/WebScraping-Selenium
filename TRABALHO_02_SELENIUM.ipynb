{
 "cells": [
  {
   "cell_type": "markdown",
   "metadata": {},
   "source": [
    "## TRABALHO SELENIUM\n",
    "\n",
    "### Danilo AP Gonçalves das Neves"
   ]
  },
  {
   "cell_type": "code",
   "execution_count": null,
   "metadata": {},
   "outputs": [],
   "source": [
    "\n",
    "from selenium import webdriver\n",
    "from selenium.webdriver.support.ui import Select\n",
    "from selenium.webdriver.firefox.options import Options\n",
    "import requests\n",
    "from bs4 import BeautifulSoup\n",
    "from selenium.webdriver.common.by import By\n",
    "import time"
   ]
  },
  {
   "cell_type": "code",
   "execution_count": null,
   "metadata": {},
   "outputs": [],
   "source": [
    "url = (\"https://weather.com/pt-BR/clima/10dias/l/BRMG0645:1:BR\")"
   ]
  },
  {
   "cell_type": "code",
   "execution_count": null,
   "metadata": {},
   "outputs": [],
   "source": [
    "browser = webdriver.Chrome(executable_path=\"C:\\Aula_Selenium/chromedriver\")\n",
    "time.sleep(20)\n",
    "browser.get(url)"
   ]
  },
  {
   "cell_type": "code",
   "execution_count": null,
   "metadata": {},
   "outputs": [],
   "source": [
    "# Lista de 3 cidades\n",
    "\n",
    "cidades = [\"Bauru, São Paulo, Brasil\", \"Ourinhos, São Paulo, Brasil\",\"Santa Cruz do Rio Pardo, São Paulo, Brasil\"]"
   ]
  },
  {
   "cell_type": "code",
   "execution_count": null,
   "metadata": {
    "scrolled": false
   },
   "outputs": [],
   "source": [
    "for item in cidades:\n",
    "    print(item)\n",
    "    cidade = browser.find_element(By.CSS_SELECTOR,\".theme__inputElement__4bZUj.input__inputElement__1GjGE\")\n",
    "    cidade.send_keys(item)\n",
    "    \n",
    "    time.sleep(20)\n",
    "    \n",
    "    selected = browser.find_element(By.CSS_SELECTOR,\".styles__item__3sdr8.styles__selected__SEH0e\")\n",
    "    \n",
    "    time.sleep(20)\n",
    "    \n",
    "    selected.click()\n",
    "    \n",
    "    page = requests.get(url)\n",
    "    \n",
    "    data = BeautifulSoup(page.text, 'html.parser')\n",
    "    \n",
    "    body = data.find(\"region\", {'class':'region region-main'})\n",
    "    \n",
    "    \n",
    "    browser.get(url)\n",
    "    soup = BeautifulSoup(browser.page_source, 'html.parser')\n",
    "    table = soup.find('table', attrs={'class':'twc-table'})\n",
    "    data = []\n",
    "    table_body = table.find('tbody')\n",
    "    rows = table_body.find_all('tr')\n",
    "    for row in rows:\n",
    "        cols = row.find_all('td')\n",
    "        cols = [ele.text.strip() for ele in cols]\n",
    "        data.append([ele for ele in cols if ele])\n",
    "        info = [ele for ele in cols if ele]\n",
    "        post = {\n",
    "             \"dia\" : info[0],\n",
    "             \"descricao\" : info[1],\n",
    "             \"min/max\" : info[2],\n",
    "             \"precip\" : info[3],\n",
    "             \"vento\" : info[4],\n",
    "             \"umidade\" : info[5]\n",
    "        }\n",
    "        print(post)\n",
    "        print(\"---------------\")\n",
    "\n",
    "browser.close()"
   ]
  },
  {
   "cell_type": "code",
   "execution_count": null,
   "metadata": {},
   "outputs": [],
   "source": []
  }
 ],
 "metadata": {
  "kernelspec": {
   "display_name": "Python 3",
   "language": "python",
   "name": "python3"
  },
  "language_info": {
   "codemirror_mode": {
    "name": "ipython",
    "version": 3
   },
   "file_extension": ".py",
   "mimetype": "text/x-python",
   "name": "python",
   "nbconvert_exporter": "python",
   "pygments_lexer": "ipython3",
   "version": "3.6.5"
  }
 },
 "nbformat": 4,
 "nbformat_minor": 2
}

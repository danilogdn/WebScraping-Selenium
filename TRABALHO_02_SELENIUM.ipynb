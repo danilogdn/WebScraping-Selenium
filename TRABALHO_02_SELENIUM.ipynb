{
 "cells": [
  {
   "cell_type": "markdown",
   "metadata": {},
   "source": [
    "## TRABALHO SELENIUM\n",
    "\n",
    "### Danilo AP Gonçalves das Neves"
   ]
  },
  {
   "cell_type": "code",
   "execution_count": 47,
   "metadata": {},
   "outputs": [],
   "source": [
    "\n",
    "from selenium import webdriver\n",
    "from selenium.webdriver.support.ui import Select\n",
    "from selenium.webdriver.firefox.options import Options\n",
    "import requests\n",
    "from bs4 import BeautifulSoup\n",
    "from selenium.webdriver.common.by import By\n",
    "import time"
   ]
  },
  {
   "cell_type": "code",
   "execution_count": 48,
   "metadata": {},
   "outputs": [],
   "source": [
    "url = (\"https://weather.com/pt-BR/clima/10dias/l/BRMG0645:1:BR\")"
   ]
  },
  {
   "cell_type": "code",
   "execution_count": 49,
   "metadata": {},
   "outputs": [],
   "source": [
    "browser = webdriver.Chrome(executable_path=\"C:\\Aula_Selenium/chromedriver\")\n",
    "time.sleep(20)\n",
    "browser.get(url)"
   ]
  },
  {
   "cell_type": "code",
   "execution_count": 50,
   "metadata": {},
   "outputs": [],
   "source": [
    "# Lista de 3 cidades\n",
    "\n",
    "cidades = [\"Bauru, São Paulo, Brasil\", \"Ourinhos, São Paulo, Brasil\",\"Santa Cruz do Rio Pardo, São Paulo, Brasil\"]"
   ]
  },
  {
   "cell_type": "code",
   "execution_count": 51,
   "metadata": {
    "scrolled": false
   },
   "outputs": [
    {
     "name": "stdout",
     "output_type": "stream",
     "text": [
      "Bauru, São Paulo, Brasil\n",
      "{'dia': 'Hoje à noiteABR 6', 'descricao': 'Tempestades', 'min/max': '--17°', 'precip': '100%', 'vento': 'L 7 Km/h', 'umidade': '94%'}\n",
      "---------------\n",
      "{'dia': 'Dom\\nABR 7', 'descricao': 'Tempestestades à tarde', 'min/max': '25°17°', 'precip': '80%', 'vento': 'N 13 Km/h', 'umidade': '78%'}\n",
      "---------------\n",
      "{'dia': 'Seg\\nABR 8', 'descricao': 'Tempestestades à tarde', 'min/max': '25°16°', 'precip': '80%', 'vento': 'NO 17 Km/h', 'umidade': '75%'}\n",
      "---------------\n",
      "{'dia': 'TerABR 9', 'descricao': 'Chuva', 'min/max': '20°14°', 'precip': '100%', 'vento': 'SSO 13 Km/h', 'umidade': '91%'}\n",
      "---------------\n",
      "{'dia': 'QuaABR 10', 'descricao': 'Pancadas de chuva', 'min/max': '21°13°', 'precip': '40%', 'vento': 'SSL 14 Km/h', 'umidade': '80%'}\n",
      "---------------\n",
      "{'dia': 'QuiABR 11', 'descricao': 'Pan.ch. à tarde', 'min/max': '23°14°', 'precip': '50%', 'vento': 'SL 13 Km/h', 'umidade': '75%'}\n",
      "---------------\n",
      "{'dia': 'SexABR 12', 'descricao': 'Pancadas de chuva', 'min/max': '23°13°', 'precip': '40%', 'vento': 'SL 12 Km/h', 'umidade': '72%'}\n",
      "---------------\n",
      "{'dia': 'SábABR 13', 'descricao': 'Pancadas de chuva', 'min/max': '24°15°', 'precip': '40%', 'vento': 'LNL 10 Km/h', 'umidade': '71%'}\n",
      "---------------\n",
      "{'dia': 'DomABR 14', 'descricao': 'Chuva', 'min/max': '23°15°', 'precip': '60%', 'vento': 'LNL 10 Km/h', 'umidade': '76%'}\n",
      "---------------\n",
      "{'dia': 'SegABR 15', 'descricao': 'Tempestades', 'min/max': '23°15°', 'precip': '80%', 'vento': 'LNL 10 Km/h', 'umidade': '77%'}\n",
      "---------------\n",
      "{'dia': 'TerABR 16', 'descricao': 'Tempestades', 'min/max': '22°14°', 'precip': '80%', 'vento': 'L 12 Km/h', 'umidade': '78%'}\n",
      "---------------\n",
      "{'dia': 'QuaABR 17', 'descricao': 'Chuva fraca', 'min/max': '23°14°', 'precip': '60%', 'vento': 'LSL 12 Km/h', 'umidade': '77%'}\n",
      "---------------\n",
      "{'dia': 'Qui\\nABR 18', 'descricao': 'Tempestades esparsas', 'min/max': '23°13°', 'precip': '50%', 'vento': 'L 11 Km/h', 'umidade': '74%'}\n",
      "---------------\n",
      "{'dia': 'SexABR 19', 'descricao': 'Pancadas de chuva', 'min/max': '23°13°', 'precip': '40%', 'vento': 'L 11 Km/h', 'umidade': '74%'}\n",
      "---------------\n",
      "{'dia': 'SábABR 20', 'descricao': 'Pancadas de chuva', 'min/max': '23°13°', 'precip': '40%', 'vento': 'LSL 11 Km/h', 'umidade': '75%'}\n",
      "---------------\n",
      "Ourinhos, São Paulo, Brasil\n",
      "{'dia': 'Hoje à noiteABR 6', 'descricao': 'Tempestades', 'min/max': '--17°', 'precip': '100%', 'vento': 'L 7 Km/h', 'umidade': '94%'}\n",
      "---------------\n",
      "{'dia': 'Dom\\nABR 7', 'descricao': 'Tempestestades à tarde', 'min/max': '25°16°', 'precip': '80%', 'vento': 'N 13 Km/h', 'umidade': '78%'}\n",
      "---------------\n",
      "{'dia': 'Seg\\nABR 8', 'descricao': 'Tempestestades à tarde', 'min/max': '25°16°', 'precip': '80%', 'vento': 'NO 17 Km/h', 'umidade': '74%'}\n",
      "---------------\n",
      "{'dia': 'TerABR 9', 'descricao': 'Chuva', 'min/max': '20°14°', 'precip': '100%', 'vento': 'SSO 13 Km/h', 'umidade': '91%'}\n",
      "---------------\n",
      "{'dia': 'QuaABR 10', 'descricao': 'Pan.ch. à tarde', 'min/max': '21°13°', 'precip': '40%', 'vento': 'SSL 14 Km/h', 'umidade': '80%'}\n",
      "---------------\n",
      "{'dia': 'QuiABR 11', 'descricao': 'Pan.ch. à tarde', 'min/max': '22°13°', 'precip': '40%', 'vento': 'SL 13 Km/h', 'umidade': '75%'}\n",
      "---------------\n",
      "{'dia': 'SexABR 12', 'descricao': 'Pancadas de chuva', 'min/max': '23°13°', 'precip': '40%', 'vento': 'SL 12 Km/h', 'umidade': '72%'}\n",
      "---------------\n",
      "{'dia': 'SábABR 13', 'descricao': 'Pancadas de chuva', 'min/max': '24°15°', 'precip': '40%', 'vento': 'LNL 10 Km/h', 'umidade': '71%'}\n",
      "---------------\n",
      "{'dia': 'DomABR 14', 'descricao': 'Chuva', 'min/max': '23°15°', 'precip': '60%', 'vento': 'LNL 10 Km/h', 'umidade': '76%'}\n",
      "---------------\n",
      "{'dia': 'SegABR 15', 'descricao': 'Tempestades', 'min/max': '23°15°', 'precip': '80%', 'vento': 'LNL 10 Km/h', 'umidade': '77%'}\n",
      "---------------\n",
      "{'dia': 'TerABR 16', 'descricao': 'Tempestades', 'min/max': '22°14°', 'precip': '80%', 'vento': 'L 11 Km/h', 'umidade': '78%'}\n",
      "---------------\n",
      "{'dia': 'QuaABR 17', 'descricao': 'Chuva fraca', 'min/max': '23°14°', 'precip': '60%', 'vento': 'LSL 12 Km/h', 'umidade': '77%'}\n",
      "---------------\n",
      "{'dia': 'Qui\\nABR 18', 'descricao': 'Tempestades esparsas', 'min/max': '23°13°', 'precip': '50%', 'vento': 'LSL 11 Km/h', 'umidade': '74%'}\n",
      "---------------\n",
      "{'dia': 'SexABR 19', 'descricao': 'Pancadas de chuva', 'min/max': '23°13°', 'precip': '40%', 'vento': 'L 11 Km/h', 'umidade': '74%'}\n",
      "---------------\n",
      "{'dia': 'SábABR 20', 'descricao': 'Pancadas de chuva', 'min/max': '23°13°', 'precip': '40%', 'vento': 'LSL 11 Km/h', 'umidade': '75%'}\n",
      "---------------\n",
      "Santa Cruz do Rio Pardo, São Paulo, Brasil\n"
     ]
    },
    {
     "ename": "ElementNotInteractableException",
     "evalue": "Message: element not interactable\n  (Session info: chrome=73.0.3683.86)\n  (Driver info: chromedriver=73.0.3683.68 (47787ec04b6e38e22703e856e101e840b65afe72),platform=Windows NT 6.1.7601 SP1 x86_64)\n",
     "output_type": "error",
     "traceback": [
      "\u001b[1;31m---------------------------------------------------------------------------\u001b[0m",
      "\u001b[1;31mElementNotInteractableException\u001b[0m           Traceback (most recent call last)",
      "\u001b[1;32m<ipython-input-51-2b1375fab5e6>\u001b[0m in \u001b[0;36m<module>\u001b[1;34m()\u001b[0m\n\u001b[0;32m      2\u001b[0m     \u001b[0mprint\u001b[0m\u001b[1;33m(\u001b[0m\u001b[0mitem\u001b[0m\u001b[1;33m)\u001b[0m\u001b[1;33m\u001b[0m\u001b[0m\n\u001b[0;32m      3\u001b[0m     \u001b[0mcidade\u001b[0m \u001b[1;33m=\u001b[0m \u001b[0mbrowser\u001b[0m\u001b[1;33m.\u001b[0m\u001b[0mfind_element\u001b[0m\u001b[1;33m(\u001b[0m\u001b[0mBy\u001b[0m\u001b[1;33m.\u001b[0m\u001b[0mCSS_SELECTOR\u001b[0m\u001b[1;33m,\u001b[0m\u001b[1;34m\".theme__inputElement__4bZUj.input__inputElement__1GjGE\"\u001b[0m\u001b[1;33m)\u001b[0m\u001b[1;33m\u001b[0m\u001b[0m\n\u001b[1;32m----> 4\u001b[1;33m     \u001b[0mcidade\u001b[0m\u001b[1;33m.\u001b[0m\u001b[0msend_keys\u001b[0m\u001b[1;33m(\u001b[0m\u001b[0mitem\u001b[0m\u001b[1;33m)\u001b[0m\u001b[1;33m\u001b[0m\u001b[0m\n\u001b[0m\u001b[0;32m      5\u001b[0m \u001b[1;33m\u001b[0m\u001b[0m\n\u001b[0;32m      6\u001b[0m     \u001b[0mtime\u001b[0m\u001b[1;33m.\u001b[0m\u001b[0msleep\u001b[0m\u001b[1;33m(\u001b[0m\u001b[1;36m10\u001b[0m\u001b[1;33m)\u001b[0m\u001b[1;33m\u001b[0m\u001b[0m\n",
      "\u001b[1;32mC:\\MBA - FIB\\lib\\site-packages\\selenium\\webdriver\\remote\\webelement.py\u001b[0m in \u001b[0;36msend_keys\u001b[1;34m(self, *value)\u001b[0m\n\u001b[0;32m    477\u001b[0m         self._execute(Command.SEND_KEYS_TO_ELEMENT,\n\u001b[0;32m    478\u001b[0m                       {'text': \"\".join(keys_to_typing(value)),\n\u001b[1;32m--> 479\u001b[1;33m                        'value': keys_to_typing(value)})\n\u001b[0m\u001b[0;32m    480\u001b[0m \u001b[1;33m\u001b[0m\u001b[0m\n\u001b[0;32m    481\u001b[0m     \u001b[1;31m# RenderedWebElement Items\u001b[0m\u001b[1;33m\u001b[0m\u001b[1;33m\u001b[0m\u001b[0m\n",
      "\u001b[1;32mC:\\MBA - FIB\\lib\\site-packages\\selenium\\webdriver\\remote\\webelement.py\u001b[0m in \u001b[0;36m_execute\u001b[1;34m(self, command, params)\u001b[0m\n\u001b[0;32m    626\u001b[0m             \u001b[0mparams\u001b[0m \u001b[1;33m=\u001b[0m \u001b[1;33m{\u001b[0m\u001b[1;33m}\u001b[0m\u001b[1;33m\u001b[0m\u001b[0m\n\u001b[0;32m    627\u001b[0m         \u001b[0mparams\u001b[0m\u001b[1;33m[\u001b[0m\u001b[1;34m'id'\u001b[0m\u001b[1;33m]\u001b[0m \u001b[1;33m=\u001b[0m \u001b[0mself\u001b[0m\u001b[1;33m.\u001b[0m\u001b[0m_id\u001b[0m\u001b[1;33m\u001b[0m\u001b[0m\n\u001b[1;32m--> 628\u001b[1;33m         \u001b[1;32mreturn\u001b[0m \u001b[0mself\u001b[0m\u001b[1;33m.\u001b[0m\u001b[0m_parent\u001b[0m\u001b[1;33m.\u001b[0m\u001b[0mexecute\u001b[0m\u001b[1;33m(\u001b[0m\u001b[0mcommand\u001b[0m\u001b[1;33m,\u001b[0m \u001b[0mparams\u001b[0m\u001b[1;33m)\u001b[0m\u001b[1;33m\u001b[0m\u001b[0m\n\u001b[0m\u001b[0;32m    629\u001b[0m \u001b[1;33m\u001b[0m\u001b[0m\n\u001b[0;32m    630\u001b[0m     \u001b[1;32mdef\u001b[0m \u001b[0mfind_element\u001b[0m\u001b[1;33m(\u001b[0m\u001b[0mself\u001b[0m\u001b[1;33m,\u001b[0m \u001b[0mby\u001b[0m\u001b[1;33m=\u001b[0m\u001b[0mBy\u001b[0m\u001b[1;33m.\u001b[0m\u001b[0mID\u001b[0m\u001b[1;33m,\u001b[0m \u001b[0mvalue\u001b[0m\u001b[1;33m=\u001b[0m\u001b[1;32mNone\u001b[0m\u001b[1;33m)\u001b[0m\u001b[1;33m:\u001b[0m\u001b[1;33m\u001b[0m\u001b[0m\n",
      "\u001b[1;32mC:\\MBA - FIB\\lib\\site-packages\\selenium\\webdriver\\remote\\webdriver.py\u001b[0m in \u001b[0;36mexecute\u001b[1;34m(self, driver_command, params)\u001b[0m\n\u001b[0;32m    318\u001b[0m         \u001b[0mresponse\u001b[0m \u001b[1;33m=\u001b[0m \u001b[0mself\u001b[0m\u001b[1;33m.\u001b[0m\u001b[0mcommand_executor\u001b[0m\u001b[1;33m.\u001b[0m\u001b[0mexecute\u001b[0m\u001b[1;33m(\u001b[0m\u001b[0mdriver_command\u001b[0m\u001b[1;33m,\u001b[0m \u001b[0mparams\u001b[0m\u001b[1;33m)\u001b[0m\u001b[1;33m\u001b[0m\u001b[0m\n\u001b[0;32m    319\u001b[0m         \u001b[1;32mif\u001b[0m \u001b[0mresponse\u001b[0m\u001b[1;33m:\u001b[0m\u001b[1;33m\u001b[0m\u001b[0m\n\u001b[1;32m--> 320\u001b[1;33m             \u001b[0mself\u001b[0m\u001b[1;33m.\u001b[0m\u001b[0merror_handler\u001b[0m\u001b[1;33m.\u001b[0m\u001b[0mcheck_response\u001b[0m\u001b[1;33m(\u001b[0m\u001b[0mresponse\u001b[0m\u001b[1;33m)\u001b[0m\u001b[1;33m\u001b[0m\u001b[0m\n\u001b[0m\u001b[0;32m    321\u001b[0m             response['value'] = self._unwrap_value(\n\u001b[0;32m    322\u001b[0m                 response.get('value', None))\n",
      "\u001b[1;32mC:\\MBA - FIB\\lib\\site-packages\\selenium\\webdriver\\remote\\errorhandler.py\u001b[0m in \u001b[0;36mcheck_response\u001b[1;34m(self, response)\u001b[0m\n\u001b[0;32m    240\u001b[0m                 \u001b[0malert_text\u001b[0m \u001b[1;33m=\u001b[0m \u001b[0mvalue\u001b[0m\u001b[1;33m[\u001b[0m\u001b[1;34m'alert'\u001b[0m\u001b[1;33m]\u001b[0m\u001b[1;33m.\u001b[0m\u001b[0mget\u001b[0m\u001b[1;33m(\u001b[0m\u001b[1;34m'text'\u001b[0m\u001b[1;33m)\u001b[0m\u001b[1;33m\u001b[0m\u001b[0m\n\u001b[0;32m    241\u001b[0m             \u001b[1;32mraise\u001b[0m \u001b[0mexception_class\u001b[0m\u001b[1;33m(\u001b[0m\u001b[0mmessage\u001b[0m\u001b[1;33m,\u001b[0m \u001b[0mscreen\u001b[0m\u001b[1;33m,\u001b[0m \u001b[0mstacktrace\u001b[0m\u001b[1;33m,\u001b[0m \u001b[0malert_text\u001b[0m\u001b[1;33m)\u001b[0m\u001b[1;33m\u001b[0m\u001b[0m\n\u001b[1;32m--> 242\u001b[1;33m         \u001b[1;32mraise\u001b[0m \u001b[0mexception_class\u001b[0m\u001b[1;33m(\u001b[0m\u001b[0mmessage\u001b[0m\u001b[1;33m,\u001b[0m \u001b[0mscreen\u001b[0m\u001b[1;33m,\u001b[0m \u001b[0mstacktrace\u001b[0m\u001b[1;33m)\u001b[0m\u001b[1;33m\u001b[0m\u001b[0m\n\u001b[0m\u001b[0;32m    243\u001b[0m \u001b[1;33m\u001b[0m\u001b[0m\n\u001b[0;32m    244\u001b[0m     \u001b[1;32mdef\u001b[0m \u001b[0m_value_or_default\u001b[0m\u001b[1;33m(\u001b[0m\u001b[0mself\u001b[0m\u001b[1;33m,\u001b[0m \u001b[0mobj\u001b[0m\u001b[1;33m,\u001b[0m \u001b[0mkey\u001b[0m\u001b[1;33m,\u001b[0m \u001b[0mdefault\u001b[0m\u001b[1;33m)\u001b[0m\u001b[1;33m:\u001b[0m\u001b[1;33m\u001b[0m\u001b[0m\n",
      "\u001b[1;31mElementNotInteractableException\u001b[0m: Message: element not interactable\n  (Session info: chrome=73.0.3683.86)\n  (Driver info: chromedriver=73.0.3683.68 (47787ec04b6e38e22703e856e101e840b65afe72),platform=Windows NT 6.1.7601 SP1 x86_64)\n"
     ]
    }
   ],
   "source": [
    "for item in cidades:\n",
    "    print(item)\n",
    "    cidade = browser.find_element(By.CSS_SELECTOR,\".theme__inputElement__4bZUj.input__inputElement__1GjGE\")\n",
    "    cidade.send_keys(item)\n",
    "    \n",
    "    time.sleep(20)\n",
    "    \n",
    "    selected = browser.find_element(By.CSS_SELECTOR,\".styles__item__3sdr8.styles__selected__SEH0e\")\n",
    "    \n",
    "    time.sleep(20)\n",
    "    \n",
    "    selected.click()\n",
    "    \n",
    "    page = requests.get(url)\n",
    "    \n",
    "    data = BeautifulSoup(page.text, 'html.parser')\n",
    "    \n",
    "    body = data.find(\"region\", {'class':'region region-main'})\n",
    "    \n",
    "    \n",
    "    browser.get(url)\n",
    "    soup = BeautifulSoup(browser.page_source, 'html.parser')\n",
    "    table = soup.find('table', attrs={'class':'twc-table'})\n",
    "    data = []\n",
    "    table_body = table.find('tbody')\n",
    "    rows = table_body.find_all('tr')\n",
    "    for row in rows:\n",
    "        cols = row.find_all('td')\n",
    "        cols = [ele.text.strip() for ele in cols]\n",
    "        data.append([ele for ele in cols if ele])\n",
    "        info = [ele for ele in cols if ele]\n",
    "        post = {\n",
    "             \"dia\" : info[0],\n",
    "             \"descricao\" : info[1],\n",
    "             \"min/max\" : info[2],\n",
    "             \"precip\" : info[3],\n",
    "             \"vento\" : info[4],\n",
    "             \"umidade\" : info[5]\n",
    "        }\n",
    "        print(post)\n",
    "        print(\"---------------\")\n",
    "\n",
    "browser.close()"
   ]
  },
  {
   "cell_type": "code",
   "execution_count": null,
   "metadata": {},
   "outputs": [],
   "source": []
  }
 ],
 "metadata": {
  "kernelspec": {
   "display_name": "Python 3",
   "language": "python",
   "name": "python3"
  },
  "language_info": {
   "codemirror_mode": {
    "name": "ipython",
    "version": 3
   },
   "file_extension": ".py",
   "mimetype": "text/x-python",
   "name": "python",
   "nbconvert_exporter": "python",
   "pygments_lexer": "ipython3",
   "version": "3.6.5"
  }
 },
 "nbformat": 4,
 "nbformat_minor": 2
}
